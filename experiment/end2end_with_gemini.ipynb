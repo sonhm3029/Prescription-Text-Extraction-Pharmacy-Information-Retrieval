{
 "cells": [
  {
   "cell_type": "code",
   "execution_count": 1,
   "metadata": {},
   "outputs": [
    {
     "name": "stdout",
     "output_type": "stream",
     "text": [
      "C:\\Users\\hoang\\OneDrive\\Desktop\\nghich_prj\\Prescription-Text-Extraction-Pharmacy-Information-Retrieval\n"
     ]
    },
    {
     "name": "stderr",
     "output_type": "stream",
     "text": [
      "c:\\ProgramData\\miniconda3\\Lib\\site-packages\\IPython\\core\\magics\\osm.py:417: UserWarning: This is now an optional IPython functionality, setting dhist requires you to install the `pickleshare` library.\n",
      "  self.shell.db['dhist'] = compress_dhist(dhist)[-100:]\n"
     ]
    }
   ],
   "source": [
    "%cd C:\\Users\\hoang\\OneDrive\\Desktop\\nghich_prj\\Prescription-Text-Extraction-Pharmacy-Information-Retrieval"
   ]
  },
  {
   "cell_type": "code",
   "execution_count": 2,
   "metadata": {},
   "outputs": [
    {
     "name": "stderr",
     "output_type": "stream",
     "text": [
      "c:\\ProgramData\\miniconda3\\Lib\\site-packages\\tqdm\\auto.py:21: TqdmWarning: IProgress not found. Please update jupyter and ipywidgets. See https://ipywidgets.readthedocs.io/en/stable/user_install.html\n",
      "  from .autonotebook import tqdm as notebook_tqdm\n"
     ]
    }
   ],
   "source": [
    "import google.generativeai as genai\n",
    "import os\n",
    "from dotenv import load_dotenv\n",
    "from PIL import Image\n",
    "\n",
    "\n",
    "\n",
    "load_dotenv()\n",
    "genai.configure(api_key=os.environ[\"GEMINI_API_KEY\"])\n"
   ]
  },
  {
   "cell_type": "code",
   "execution_count": 3,
   "metadata": {},
   "outputs": [],
   "source": [
    "model = genai.GenerativeModel(\"gemini-1.5-flash\")\n"
   ]
  },
  {
   "cell_type": "code",
   "execution_count": 4,
   "metadata": {},
   "outputs": [],
   "source": [
    "PROMPT= \"\"\"\n",
    "Hãy tìm cho tôi sản phẩm nước uống sâm củ biok xem có mặt tại các nhà thuốc nào\n",
    "\"\"\""
   ]
  },
  {
   "cell_type": "code",
   "execution_count": 5,
   "metadata": {},
   "outputs": [],
   "source": [
    "res = model.generate_content([PROMPT])\n"
   ]
  },
  {
   "cell_type": "code",
   "execution_count": 6,
   "metadata": {},
   "outputs": [
    {
     "name": "stdout",
     "output_type": "stream",
     "text": [
      "Tôi xin lỗi, nhưng tôi không thể cung cấp thông tin về sản phẩm cụ thể hoặc nơi bán hàng. \n",
      "\n",
      "Để tìm hiểu sản phẩm nước uống sâm củ Biok, bạn có thể thử những cách sau:\n",
      "\n",
      "* **Tra cứu trực tuyến:** Sử dụng công cụ tìm kiếm như Google để tìm kiếm \"nước uống sâm củ Biok\" cùng với tên thành phố hoặc khu vực của bạn.\n",
      "* **Liên hệ trực tiếp với nhà sản xuất:** Tìm thông tin liên lạc của nhà sản xuất Biok trên website hoặc bao bì sản phẩm để hỏi về điểm bán.\n",
      "* **Kiểm tra các trang web bán hàng trực tuyến:** Các trang web như Tiki, Shopee, Lazada thường có nhiều sản phẩm sức khỏe, bao gồm cả nước uống sâm củ.\n",
      "* **Gọi điện cho các nhà thuốc gần bạn:** Hãy gọi điện cho các nhà thuốc gần bạn để hỏi xem họ có bán sản phẩm nước uống sâm củ Biok không.\n",
      "\n",
      "Lưu ý: \n",
      "* Nên chọn mua sản phẩm từ các nhà thuốc uy tín để đảm bảo chất lượng và nguồn gốc sản phẩm.\n",
      "* Luôn đọc kỹ thông tin sản phẩm và hướng dẫn sử dụng trước khi dùng.\n",
      "* Nếu bạn có bất kỳ vấn đề sức khỏe nào, hãy tham khảo ý kiến bác sĩ trước khi sử dụng bất kỳ loại sản phẩm nào.\n",
      "\n"
     ]
    }
   ],
   "source": [
    "print(res.text)\n"
   ]
  }
 ],
 "metadata": {
  "kernelspec": {
   "display_name": "base",
   "language": "python",
   "name": "python3"
  },
  "language_info": {
   "codemirror_mode": {
    "name": "ipython",
    "version": 3
   },
   "file_extension": ".py",
   "mimetype": "text/x-python",
   "name": "python",
   "nbconvert_exporter": "python",
   "pygments_lexer": "ipython3",
   "version": "3.12.4"
  }
 },
 "nbformat": 4,
 "nbformat_minor": 2
}
